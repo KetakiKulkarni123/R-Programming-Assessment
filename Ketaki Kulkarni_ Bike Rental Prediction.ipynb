{
 "cells": [
  {
   "cell_type": "markdown",
   "id": "bfe175e7-2046-4b01-9a55-19e17c419ccd",
   "metadata": {},
   "source": [
    "<h1 style=\"background-color:skyblue; color:black; text-align:center; font-family:serif; font-size:45px\"><b r><br>\n",
    "    Predict Bike Rental Counts<br><br>\n",
    "    <h4 style=\"background-color:skyblue; text-align:right; font-family:serif; font-size:18px\"><b r><em><font color='darkred'>\n",
    "        -By Ketaki Kulkarni<br></font></em>"
   ]
  },
  {
   "cell_type": "markdown",
   "id": "93d37b72-4e91-4550-b23c-5b880ba17205",
   "metadata": {},
   "source": [
    "<h1 style=\"font-family:serif; font-size:35px\"> <b r>\n",
    "    PROBLEM STATEMENT:</h1>\n",
    "<h3 style=\"font-family:serif; font-size:16px\">\n",
    "<ol>\n",
    "    <li>Nowadays, the demand for car-sharing services like Uber, Lyft, etc. has been at the peak, similarly there are bike-sharing services that gained demand in many countries during the past decade. In bike-sharing systems, the entire process from membership to rental and return has been automated. Using these systems, users can easily rent a bike from one location and return it to another. </li> <br>\n",
    "    <li>Heavy street traffic in busy cities and a desire for a two-wheeler transportation makes biking an attractive alternative to traveling by car. A limited supply of bikes, increasing demand for bikes, cost of storage and relocation of bikes serve as motivation for forecasting the demand of bikes. So, that calls for prediction of demand of ridesharing systems and the companies concerned. This project examines the daily bike rental data with weather, date, season and other information spanning 2 years 2011 and 2012.</li>\r\n",
    "\n",
    "</ol>\n",
    "</h3>"
   ]
  },
  {
   "cell_type": "markdown",
   "id": "fcd649d4-8609-4040-b39a-cb6004823a4c",
   "metadata": {},
   "source": [
    "<h3 style=\"font-family:serif\"> <b r>\n",
    "    Loading the required libraries"
   ]
  },
  {
   "cell_type": "code",
   "execution_count": 1,
   "id": "5a7425b8-1121-4df6-9a24-189b377880d4",
   "metadata": {},
   "outputs": [
    {
     "name": "stderr",
     "output_type": "stream",
     "text": [
      "corrplot 0.92 loaded\n",
      "\n",
      "\n",
      "Attaching package: 'dplyr'\n",
      "\n",
      "\n",
      "The following objects are masked from 'package:stats':\n",
      "\n",
      "    filter, lag\n",
      "\n",
      "\n",
      "The following objects are masked from 'package:base':\n",
      "\n",
      "    intersect, setdiff, setequal, union\n",
      "\n",
      "\n",
      "Loading required package: ParamHelpers\n",
      "\n",
      "Warning message: 'mlr' is in 'maintenance-only' mode since July 2019.\n",
      "Future development will only happen in 'mlr3'\n",
      "(<https://mlr3.mlr-org.com>). Due to the focus on 'mlr3' there might be\n",
      "uncaught bugs meanwhile in {mlr} - please consider switching.\n",
      "\n",
      "\n",
      "Attaching package: 'MASS'\n",
      "\n",
      "\n",
      "The following object is masked from 'package:dplyr':\n",
      "\n",
      "    select\n",
      "\n",
      "\n",
      "\n",
      "Attaching package: 'Metrics'\n",
      "\n",
      "\n",
      "The following object is masked from 'package:rcompanion':\n",
      "\n",
      "    accuracy\n",
      "\n",
      "\n",
      "randomForest 4.7-1.1\n",
      "\n",
      "Type rfNews() to see new features/changes/bug fixes.\n",
      "\n",
      "\n",
      "Attaching package: 'randomForest'\n",
      "\n",
      "\n",
      "The following object is masked from 'package:dplyr':\n",
      "\n",
      "    combine\n",
      "\n",
      "\n",
      "The following object is masked from 'package:ggplot2':\n",
      "\n",
      "    margin\n",
      "\n",
      "\n"
     ]
    }
   ],
   "source": [
    "library(corrplot)\n",
    "library(ggplot2)\n",
    "library(dplyr)\n",
    "library(rcompanion)\n",
    "library(mlr)\n",
    "library(caTools)\n",
    "library(MASS)\n",
    "library(Metrics)\n",
    "library(randomForest)"
   ]
  },
  {
   "cell_type": "markdown",
   "id": "b8dba706-1e85-4e1d-95c1-444efb4057cf",
   "metadata": {},
   "source": [
    "<h3 style=\"font-family:serif\"> <b r>\n",
    "    Loading the data"
   ]
  },
  {
   "cell_type": "code",
   "execution_count": 2,
   "id": "0f281e0c-8c6f-4b8f-a6c3-1bc0bf747c2a",
   "metadata": {},
   "outputs": [],
   "source": [
    "data <- read.csv(\"1657875746_day.csv\", header = TRUE)"
   ]
  },
  {
   "cell_type": "code",
   "execution_count": 3,
   "id": "5aafb833-7ea5-4c76-a343-a08aa1c90471",
   "metadata": {},
   "outputs": [
    {
     "data": {
      "text/html": [
       "<table class=\"dataframe\">\n",
       "<caption>A data.frame: 6 × 16</caption>\n",
       "<thead>\n",
       "\t<tr><th></th><th scope=col>instant</th><th scope=col>dteday</th><th scope=col>season</th><th scope=col>yr</th><th scope=col>mnth</th><th scope=col>holiday</th><th scope=col>weekday</th><th scope=col>workingday</th><th scope=col>weathersit</th><th scope=col>temp</th><th scope=col>atemp</th><th scope=col>hum</th><th scope=col>windspeed</th><th scope=col>casual</th><th scope=col>registered</th><th scope=col>cnt</th></tr>\n",
       "\t<tr><th></th><th scope=col>&lt;int&gt;</th><th scope=col>&lt;chr&gt;</th><th scope=col>&lt;int&gt;</th><th scope=col>&lt;int&gt;</th><th scope=col>&lt;int&gt;</th><th scope=col>&lt;int&gt;</th><th scope=col>&lt;int&gt;</th><th scope=col>&lt;int&gt;</th><th scope=col>&lt;int&gt;</th><th scope=col>&lt;dbl&gt;</th><th scope=col>&lt;dbl&gt;</th><th scope=col>&lt;dbl&gt;</th><th scope=col>&lt;dbl&gt;</th><th scope=col>&lt;int&gt;</th><th scope=col>&lt;int&gt;</th><th scope=col>&lt;int&gt;</th></tr>\n",
       "</thead>\n",
       "<tbody>\n",
       "\t<tr><th scope=row>1</th><td>1</td><td>01-01-2011</td><td>1</td><td>0</td><td>1</td><td>0</td><td>6</td><td>0</td><td>2</td><td>0.344167</td><td>0.363625</td><td>0.805833</td><td>0.1604460</td><td>331</td><td> 654</td><td> 985</td></tr>\n",
       "\t<tr><th scope=row>2</th><td>2</td><td>02-01-2011</td><td>1</td><td>0</td><td>1</td><td>0</td><td>0</td><td>0</td><td>2</td><td>0.363478</td><td>0.353739</td><td>0.696087</td><td>0.2485390</td><td>131</td><td> 670</td><td> 801</td></tr>\n",
       "\t<tr><th scope=row>3</th><td>3</td><td>03-01-2011</td><td>1</td><td>0</td><td>1</td><td>0</td><td>1</td><td>1</td><td>1</td><td>0.196364</td><td>0.189405</td><td>0.437273</td><td>0.2483090</td><td>120</td><td>1229</td><td>1349</td></tr>\n",
       "\t<tr><th scope=row>4</th><td>4</td><td>04-01-2011</td><td>1</td><td>0</td><td>1</td><td>0</td><td>2</td><td>1</td><td>1</td><td>0.200000</td><td>0.212122</td><td>0.590435</td><td>0.1602960</td><td>108</td><td>1454</td><td>1562</td></tr>\n",
       "\t<tr><th scope=row>5</th><td>5</td><td>05-01-2011</td><td>1</td><td>0</td><td>1</td><td>0</td><td>3</td><td>1</td><td>1</td><td>0.226957</td><td>0.229270</td><td>0.436957</td><td>0.1869000</td><td> 82</td><td>1518</td><td>1600</td></tr>\n",
       "\t<tr><th scope=row>6</th><td>6</td><td>06-01-2011</td><td>1</td><td>0</td><td>1</td><td>0</td><td>4</td><td>1</td><td>1</td><td>0.204348</td><td>0.233209</td><td>0.518261</td><td>0.0895652</td><td> 88</td><td>1518</td><td>1606</td></tr>\n",
       "</tbody>\n",
       "</table>\n"
      ],
      "text/latex": [
       "A data.frame: 6 × 16\n",
       "\\begin{tabular}{r|llllllllllllllll}\n",
       "  & instant & dteday & season & yr & mnth & holiday & weekday & workingday & weathersit & temp & atemp & hum & windspeed & casual & registered & cnt\\\\\n",
       "  & <int> & <chr> & <int> & <int> & <int> & <int> & <int> & <int> & <int> & <dbl> & <dbl> & <dbl> & <dbl> & <int> & <int> & <int>\\\\\n",
       "\\hline\n",
       "\t1 & 1 & 01-01-2011 & 1 & 0 & 1 & 0 & 6 & 0 & 2 & 0.344167 & 0.363625 & 0.805833 & 0.1604460 & 331 &  654 &  985\\\\\n",
       "\t2 & 2 & 02-01-2011 & 1 & 0 & 1 & 0 & 0 & 0 & 2 & 0.363478 & 0.353739 & 0.696087 & 0.2485390 & 131 &  670 &  801\\\\\n",
       "\t3 & 3 & 03-01-2011 & 1 & 0 & 1 & 0 & 1 & 1 & 1 & 0.196364 & 0.189405 & 0.437273 & 0.2483090 & 120 & 1229 & 1349\\\\\n",
       "\t4 & 4 & 04-01-2011 & 1 & 0 & 1 & 0 & 2 & 1 & 1 & 0.200000 & 0.212122 & 0.590435 & 0.1602960 & 108 & 1454 & 1562\\\\\n",
       "\t5 & 5 & 05-01-2011 & 1 & 0 & 1 & 0 & 3 & 1 & 1 & 0.226957 & 0.229270 & 0.436957 & 0.1869000 &  82 & 1518 & 1600\\\\\n",
       "\t6 & 6 & 06-01-2011 & 1 & 0 & 1 & 0 & 4 & 1 & 1 & 0.204348 & 0.233209 & 0.518261 & 0.0895652 &  88 & 1518 & 1606\\\\\n",
       "\\end{tabular}\n"
      ],
      "text/markdown": [
       "\n",
       "A data.frame: 6 × 16\n",
       "\n",
       "| <!--/--> | instant &lt;int&gt; | dteday &lt;chr&gt; | season &lt;int&gt; | yr &lt;int&gt; | mnth &lt;int&gt; | holiday &lt;int&gt; | weekday &lt;int&gt; | workingday &lt;int&gt; | weathersit &lt;int&gt; | temp &lt;dbl&gt; | atemp &lt;dbl&gt; | hum &lt;dbl&gt; | windspeed &lt;dbl&gt; | casual &lt;int&gt; | registered &lt;int&gt; | cnt &lt;int&gt; |\n",
       "|---|---|---|---|---|---|---|---|---|---|---|---|---|---|---|---|---|\n",
       "| 1 | 1 | 01-01-2011 | 1 | 0 | 1 | 0 | 6 | 0 | 2 | 0.344167 | 0.363625 | 0.805833 | 0.1604460 | 331 |  654 |  985 |\n",
       "| 2 | 2 | 02-01-2011 | 1 | 0 | 1 | 0 | 0 | 0 | 2 | 0.363478 | 0.353739 | 0.696087 | 0.2485390 | 131 |  670 |  801 |\n",
       "| 3 | 3 | 03-01-2011 | 1 | 0 | 1 | 0 | 1 | 1 | 1 | 0.196364 | 0.189405 | 0.437273 | 0.2483090 | 120 | 1229 | 1349 |\n",
       "| 4 | 4 | 04-01-2011 | 1 | 0 | 1 | 0 | 2 | 1 | 1 | 0.200000 | 0.212122 | 0.590435 | 0.1602960 | 108 | 1454 | 1562 |\n",
       "| 5 | 5 | 05-01-2011 | 1 | 0 | 1 | 0 | 3 | 1 | 1 | 0.226957 | 0.229270 | 0.436957 | 0.1869000 |  82 | 1518 | 1600 |\n",
       "| 6 | 6 | 06-01-2011 | 1 | 0 | 1 | 0 | 4 | 1 | 1 | 0.204348 | 0.233209 | 0.518261 | 0.0895652 |  88 | 1518 | 1606 |\n",
       "\n"
      ],
      "text/plain": [
       "  instant dteday     season yr mnth holiday weekday workingday weathersit\n",
       "1 1       01-01-2011 1      0  1    0       6       0          2         \n",
       "2 2       02-01-2011 1      0  1    0       0       0          2         \n",
       "3 3       03-01-2011 1      0  1    0       1       1          1         \n",
       "4 4       04-01-2011 1      0  1    0       2       1          1         \n",
       "5 5       05-01-2011 1      0  1    0       3       1          1         \n",
       "6 6       06-01-2011 1      0  1    0       4       1          1         \n",
       "  temp     atemp    hum      windspeed casual registered cnt \n",
       "1 0.344167 0.363625 0.805833 0.1604460 331     654        985\n",
       "2 0.363478 0.353739 0.696087 0.2485390 131     670        801\n",
       "3 0.196364 0.189405 0.437273 0.2483090 120    1229       1349\n",
       "4 0.200000 0.212122 0.590435 0.1602960 108    1454       1562\n",
       "5 0.226957 0.229270 0.436957 0.1869000  82    1518       1600\n",
       "6 0.204348 0.233209 0.518261 0.0895652  88    1518       1606"
      ]
     },
     "metadata": {},
     "output_type": "display_data"
    }
   ],
   "source": [
    "head(data)"
   ]
  },
  {
   "cell_type": "markdown",
   "id": "a3e7c94e-efbb-438d-a57e-78f2199a9b23",
   "metadata": {},
   "source": [
    "<h3 style=\"font-family:serif\"> <b r>\n",
    "    Basic Information of the Data"
   ]
  },
  {
   "cell_type": "code",
   "execution_count": 4,
   "id": "9cb25d6c-a3f0-45a7-a353-010e44d2d2b7",
   "metadata": {},
   "outputs": [
    {
     "data": {
      "text/html": [
       "'There are 731 rows (i.e. observations) and 16 columns (i.e. variables) in the Bike data'"
      ],
      "text/latex": [
       "'There are 731 rows (i.e. observations) and 16 columns (i.e. variables) in the Bike data'"
      ],
      "text/markdown": [
       "'There are 731 rows (i.e. observations) and 16 columns (i.e. variables) in the Bike data'"
      ],
      "text/plain": [
       "[1] \"There are 731 rows (i.e. observations) and 16 columns (i.e. variables) in the Bike data\""
      ]
     },
     "metadata": {},
     "output_type": "display_data"
    }
   ],
   "source": [
    "sprintf('There are %s rows (i.e. observations) and %s columns (i.e. variables) in the Bike data', dim(data)[1], dim(data)[2])"
   ]
  },
  {
   "cell_type": "code",
   "execution_count": 5,
   "id": "daf9d733-7863-4aa3-a790-32215a166cef",
   "metadata": {},
   "outputs": [
    {
     "name": "stdout",
     "output_type": "stream",
     "text": [
      "'data.frame':\t731 obs. of  16 variables:\n",
      " $ instant   : int  1 2 3 4 5 6 7 8 9 10 ...\n",
      " $ dteday    : chr  \"01-01-2011\" \"02-01-2011\" \"03-01-2011\" \"04-01-2011\" ...\n",
      " $ season    : int  1 1 1 1 1 1 1 1 1 1 ...\n",
      " $ yr        : int  0 0 0 0 0 0 0 0 0 0 ...\n",
      " $ mnth      : int  1 1 1 1 1 1 1 1 1 1 ...\n",
      " $ holiday   : int  0 0 0 0 0 0 0 0 0 0 ...\n",
      " $ weekday   : int  6 0 1 2 3 4 5 6 0 1 ...\n",
      " $ workingday: int  0 0 1 1 1 1 1 0 0 1 ...\n",
      " $ weathersit: int  2 2 1 1 1 1 2 2 1 1 ...\n",
      " $ temp      : num  0.344 0.363 0.196 0.2 0.227 ...\n",
      " $ atemp     : num  0.364 0.354 0.189 0.212 0.229 ...\n",
      " $ hum       : num  0.806 0.696 0.437 0.59 0.437 ...\n",
      " $ windspeed : num  0.16 0.249 0.248 0.16 0.187 ...\n",
      " $ casual    : int  331 131 120 108 82 88 148 68 54 41 ...\n",
      " $ registered: int  654 670 1229 1454 1518 1518 1362 891 768 1280 ...\n",
      " $ cnt       : int  985 801 1349 1562 1600 1606 1510 959 822 1321 ...\n"
     ]
    }
   ],
   "source": [
    "str(data)"
   ]
  },
  {
   "cell_type": "markdown",
   "id": "24206fab-4277-429a-87c2-52c1540abbba",
   "metadata": {},
   "source": [
    "<h3 style=\"font-family:serif\"> <b r>\n",
    "    Handling Missing Values"
   ]
  },
  {
   "cell_type": "code",
   "execution_count": 6,
   "id": "8fdae078-b708-4ae1-aff7-18029b8ca3e7",
   "metadata": {},
   "outputs": [
    {
     "data": {
      "text/html": [
       "'There are 0 missing values in the dataset'"
      ],
      "text/latex": [
       "'There are 0 missing values in the dataset'"
      ],
      "text/markdown": [
       "'There are 0 missing values in the dataset'"
      ],
      "text/plain": [
       "[1] \"There are 0 missing values in the dataset\""
      ]
     },
     "metadata": {},
     "output_type": "display_data"
    }
   ],
   "source": [
    "sprintf(\"There are %s missing values in the dataset\", sum(is.na(data)))"
   ]
  },
  {
   "cell_type": "markdown",
   "id": "85572251-6fd0-4b16-8c61-50a19807cca0",
   "metadata": {},
   "source": [
    "<h3 style=\"font-family:serif; font-size:26px\"> <b r><br><br>\n",
    "    OBSERVATIONS:</h3>\n",
    "<h4 style=\"font-family:serif; font-size:16px\"> \n",
    "<ol>\n",
    "<li>There are many variables in the dataset and the type of those variables is listed above. Note that they all are not in an organized format.</li><br>\n",
    "<li>The variable 'season' has an integer data type and has observations ranging from 1 to 4, rather than displaying the seasons. The observations need to be converted into \"spring\", \"summer\", \"fall\" and \"winter\".</li><br>\n",
    "<li>Similarly, the variable 'yr' displays the observations for year as 0 and 1, which should be 2011 and 2012 respectively. </li><br>\n",
    "<li>And, there is 'weathersit' which also has integer data type, displaying values 1, 2, 3 and 4. That needs to be converted, thinking in terms of ratings in the descending order, into \"Clear\" (i.e. few clouds, partly cloudy), \"Mist\" (i.e. broken clouds and misty), \"Light Rain\" (i.e. thunderstorm, scattered clouds) and \"Heavy Rain\" (i.e. ice pallets, lightning, thunderstorm).</li><br>\n",
    "<li>The variable 'holiday' is a binary indicator of whether the particular day was a holiday or not, thus taking the values 1 and 0 respectively. These will be switch back to \"no holiday\" and \"holiday taken\" respectively and the variable will be transformed from being an integer data type to categorical feature. Then we will proceed to feature engineering and selection process.</li>\n",
    "</ol>\n",
    "</h4>"
   ]
  },
  {
   "cell_type": "markdown",
   "id": "6c9e378a-2f34-40eb-9f97-9f48a972994e",
   "metadata": {},
   "source": [
    "<h3 style=\"font-family:serif\"> <b r>\n",
    "    Handling Factors: converting the categorical variables"
   ]
  },
  {
   "cell_type": "code",
   "execution_count": 7,
   "id": "3021bff7-d3fe-4914-aa19-ff24046bbb35",
   "metadata": {},
   "outputs": [],
   "source": [
    "data$mnth <- as.factor(data$mnth)\n",
    "data$holiday <- as.factor(data$holiday)\n",
    "data$weekday <- as.factor(data$weekday)\n",
    "data$workingday <- as.factor(data$workingday)"
   ]
  },
  {
   "cell_type": "code",
   "execution_count": 8,
   "id": "ce8d533f-6693-468f-a8f2-3a30ec6e1257",
   "metadata": {},
   "outputs": [],
   "source": [
    "data$season <- as.factor(data$season)\n",
    "levels(data$season)[levels(data$season) == 1] <- 'springer'\n",
    "levels(data$season)[levels(data$season) == 2] <- 'summer'\n",
    "levels(data$season)[levels(data$season) == 3] <- 'fall'\n",
    "levels(data$season)[levels(data$season) == 4] <- 'winter'"
   ]
  },
  {
   "cell_type": "code",
   "execution_count": 9,
   "id": "dd0f3828-7a27-4062-a2e5-a7913879d8d8",
   "metadata": {},
   "outputs": [],
   "source": [
    "data$yr <- as.factor(data$yr)\n",
    "levels(data$yr)[levels(data$yr) == 0] <- 2011\n",
    "levels(data$yr)[levels(data$yr) == 1] <- 2012"
   ]
  },
  {
   "cell_type": "code",
   "execution_count": 10,
   "id": "0481768a-8b44-45c1-8e75-2e7442db37c6",
   "metadata": {},
   "outputs": [],
   "source": [
    "data$weathersit <- as.factor(data$weathersit)\n",
    "levels(data$weathersit)[levels(data$weathersit) == 1] <- 'Good'\n",
    "levels(data$weathersit)[levels(data$weathersit) == 2] <- 'Cloudy'\n",
    "levels(data$weathersit)[levels(data$weathersit) == 3] <- 'Bad'"
   ]
  },
  {
   "cell_type": "markdown",
   "id": "059b6637-04fc-4374-b905-dfd619b424dc",
   "metadata": {},
   "source": [
    "<h3 style=\"font-family:serif\"> <b r>\n",
    "    EXPLORATORY DATA ANALYSIS                "
   ]
  },
  {
   "cell_type": "markdown",
   "id": "e44eaa26-77f5-4365-9fbf-4d387798f6cb",
   "metadata": {},
   "source": [
    "<h3 style=\"font-family:serif\"> <b r>\n",
    "    Outlier Analysis                  "
   ]
  },
  {
   "cell_type": "code",
   "execution_count": 11,
   "id": "e960cf6a-9280-46c4-9e8d-ed9cd5a9a22f",
   "metadata": {},
   "outputs": [],
   "source": [
    "outlierKD <- function(dt, var) {\n",
    "   var_name <- eval(substitute(var), eval(dt))\n",
    "   na1 <- sum(is.na(var_name))\n",
    "   m1 <- mean(var_name, na.rm = T)\n",
    "   par(mfrow = c(2, 2), oma = c(0, 0, 3, 0))\n",
    "   boxplot(var_name, main = \"With outliers\")\n",
    "   hist(var_name,\n",
    "        main = \"With outliers\",\n",
    "        xlab = NA,\n",
    "        ylab = NA)\n",
    "   outlier <- boxplot.stats(var_name)$out\n",
    "   mo <- mean(outlier)\n",
    "   var_name <- ifelse(var_name %in% outlier, NA, var_name)\n",
    "   boxplot(var_name, main = \"Without outliers\")\n",
    "   hist(var_name,\n",
    "        main = \"Without outliers\",\n",
    "        xlab = NA,\n",
    "        ylab = NA)\n",
    "   title(\"Outlier Check\", outer = TRUE)\n",
    "   na2 <- sum(is.na(var_name))\n",
    "   cat(\"Outliers identified:\", na2 - na1, \"n\")\n",
    "   cat(\"Propotion (%) of outliers:\", round((na2 - na1) / sum(!is.na(var_name)) *\n",
    "                                              100, 1), \"n\")\n",
    "   cat(\"Mean of the outliers:\", round(mo, 2), \"n\")\n",
    "   m2 <- mean(var_name, na.rm = T)\n",
    "   cat(\"Mean without removing outliers:\", round(m1, 2), \"n\")\n",
    "   cat(\"Mean if we remove outliers:\", round(m2, 2), \"n\")\n",
    "   \n",
    "}"
   ]
  },
  {
   "cell_type": "code",
   "execution_count": 12,
   "id": "b9f0d131-8616-4fbe-ab89-e632e099257c",
   "metadata": {},
   "outputs": [
    {
     "name": "stdout",
     "output_type": "stream",
     "text": [
      "Outliers identified: 0 nPropotion (%) of outliers: 0 nMean of the outliers: NaN nMean without removing outliers: 0.5 nMean if we remove outliers: 0.5 n"
     ]
    },
    {
     "data": {
      "image/png": "[encoded data removed]",
      "text/plain": [
       "Plot with title \"Outlier Check\""
      ]
     },
     "metadata": {
      "image/png": {
       "height": 420,
       "width": 420
      }
     },
     "output_type": "display_data"
    }
   ],
   "source": [
    "outlierKD(data, temp) #no outliers"
   ]
  },
  {
   "cell_type": "code",
   "execution_count": 13,
   "id": "5033782f-571f-49bb-bf61-e2c8ad9d1c27",
   "metadata": {},
   "outputs": [
    {
     "name": "stdout",
     "output_type": "stream",
     "text": [
      "Outliers identified: 0 nPropotion (%) of outliers: 0 nMean of the outliers: NaN nMean without removing outliers: 0.47 nMean if we remove outliers: 0.47 n"
     ]
    },
    {
     "data": {
      "image/png": "[encoded data removed]",
      "text/plain": [
       "Plot with title \"Outlier Check\""
      ]
     },
     "metadata": {
      "image/png": {
       "height": 420,
       "width": 420
      }
     },
     "output_type": "display_data"
    }
   ],
   "source": [
    "outlierKD(data, atemp) #no outliers"
   ]
  },
  {
   "cell_type": "code",
   "execution_count": 14,
   "id": "86d1b41b-1ff8-48d8-b271-fe68b2259def",
   "metadata": {},
   "outputs": [
    {
     "name": "stdout",
     "output_type": "stream",
     "text": [
      "Outliers identified: 2 nPropotion (%) of outliers: 0.3 nMean of the outliers: 0.09 nMean without removing outliers: 0.63 nMean if we remove outliers: 0.63 n"
     ]
    },
    {
     "data": {
      "image/png": "[encoded data removed]",
      "text/plain": [
       "Plot with title \"Outlier Check\""
      ]
     },
     "metadata": {
      "image/png": {
       "height": 420,
       "width": 420
      }
     },
     "output_type": "display_data"
    }
   ],
   "source": [
    "outlierKD(data, hum) # no extreme outlier detected"
   ]
  },
  {
   "cell_type": "code",
   "execution_count": 15,
   "id": "4b5577bd-acf4-45f3-a54d-6768338e9c36",
   "metadata": {},
   "outputs": [
    {
     "name": "stdout",
     "output_type": "stream",
     "text": [
      "Outliers identified: 13 nPropotion (%) of outliers: 1.8 nMean of the outliers: 0.42 nMean without removing outliers: 0.19 nMean if we remove outliers: 0.19 n"
     ]
    },
    {
     "data": {
      "image/png": "[encoded data removed]",
      "text/plain": [
       "Plot with title \"Outlier Check\""
      ]
     },
     "metadata": {
      "image/png": {
       "height": 420,
       "width": 420
      }
     },
     "output_type": "display_data"
    }
   ],
   "source": [
    "outlierKD(data, windspeed) #some extreme values are present but canot be considered as outlier"
   ]
  },
  {
   "cell_type": "code",
   "execution_count": 16,
   "id": "4cf4629b-917f-4243-afa3-8849914b387d",
   "metadata": {},
   "outputs": [
    {
     "name": "stdout",
     "output_type": "stream",
     "text": [
      "Outliers identified: 13 nPropotion (%) of outliers: 1.8 nMean of the outliers: 0.42 nMean without removing outliers: 0.19 nMean if we remove outliers: 0.19 n"
     ]
    },
    {
     "data": {
      "image/png": "[encoded data removed]",
      "text/plain": [
       "Plot with title \"Outlier Check\""
      ]
     },
     "metadata": {
      "image/png": {
       "height": 420,
       "width": 420
      }
     },
     "output_type": "display_data"
    }
   ],
   "source": [
    "outlierKD(data, windspeed) #some extreme values are present but canot be considered as outlier"
   ]
  },
  {
   "cell_type": "code",
   "execution_count": 17,
   "id": "6a426fbd-7c59-41bf-8a47-5183b2b25c10",
   "metadata": {},
   "outputs": [
    {
     "name": "stdout",
     "output_type": "stream",
     "text": [
      "Outliers identified: 44 nPropotion (%) of outliers: 6.4 nMean of the outliers: 2661.95 nMean without removing outliers: 848.18 nMean if we remove outliers: 732.01 n"
     ]
    },
    {
     "data": {
      "image/png": "[encoded data removed]",
      "text/plain": [
       "Plot with title \"Outlier Check\""
      ]
     },
     "metadata": {
      "image/png": {
       "height": 420,
       "width": 420
      }
     },
     "output_type": "display_data"
    }
   ],
   "source": [
    "outlierKD(data, casual) # no logical outliers"
   ]
  },
  {
   "cell_type": "code",
   "execution_count": 18,
   "id": "09e3c6b4-2dc7-4bc0-b613-734d3b5b00a6",
   "metadata": {},
   "outputs": [
    {
     "name": "stdout",
     "output_type": "stream",
     "text": [
      "Outliers identified: 0 nPropotion (%) of outliers: 0 nMean of the outliers: NaN nMean without removing outliers: 3656.17 nMean if we remove outliers: 3656.17 n"
     ]
    },
    {
     "data": {
      "image/png": "[encoded data removed]",
      "text/plain": [
       "Plot with title \"Outlier Check\""
      ]
     },
     "metadata": {
      "image/png": {
       "height": 420,
       "width": 420
      }
     },
     "output_type": "display_data"
    }
   ],
   "source": [
    "outlierKD(data, registered)# no ouliers"
   ]
  },
  {
   "cell_type": "code",
   "execution_count": 19,
   "id": "41fa7397-3d46-4f93-8379-771f3869405a",
   "metadata": {},
   "outputs": [
    {
     "name": "stdout",
     "output_type": "stream",
     "text": [
      "Outliers identified: 0 nPropotion (%) of outliers: 0 nMean of the outliers: NaN nMean without removing outliers: 4504.35 nMean if we remove outliers: 4504.35 n"
     ]
    },
    {
     "data": {
      "image/png": "[encoded data removed]",
      "text/plain": [
       "Plot with title \"Outlier Check\""
      ]
     },
     "metadata": {
      "image/png": {
       "height": 420,
       "width": 420
      }
     },
     "output_type": "display_data"
    }
   ],
   "source": [
    "outlierKD(data, cnt)# no ouliers"
   ]
  },
  {
   "cell_type": "markdown",
   "id": "f2789b05-e73b-4d62-868b-0b5244b1dfe8",
   "metadata": {},
   "source": [
    "<h3 style=\"font-family:serif\"> <b r>\n",
    "    Correlation Analysis                                                      "
   ]
  },
  {
   "cell_type": "code",
   "execution_count": 20,
   "id": "f0cd56b6-ac7c-474a-9792-209db5a5ead4",
   "metadata": {},
   "outputs": [],
   "source": [
    "par(mfrow = c(1, 1))\n",
    "numeric_predictors <- unlist(lapply(data, is.numeric))\n",
    "numVarDataset <- data[, numeric_predictors]\n",
    "corr <- cor(numVarDataset)"
   ]
  },
  {
   "cell_type": "code",
   "execution_count": 21,
   "id": "bc5aa960-135d-4f41-a964-137867799539",
   "metadata": {},
   "outputs": [
    {
     "data": {
      "image/png": "[encoded data removed]",
      "text/plain": [
       "Plot with title \"\n",
       "\n",
       "Heatmap\n",
       "\""
      ]
     },
     "metadata": {
      "image/png": {
       "height": 420,
       "width": 420
      }
     },
     "output_type": "display_data"
    }
   ],
   "source": [
    "corrplot(\n",
    "   corr,\n",
    "   method = \"color\",\n",
    "   outline = TRUE,\n",
    "   cl.pos = 'n',\n",
    "   rect.col = \"black\",\n",
    "   tl.col = \"indianred4\",\n",
    "   addCoef.col = \"black\",\n",
    "   main=\"\\n\\nHeatmap\\n\", \n",
    "   col.main=\"darkblue\", \n",
    "   font.main=6,\n",
    "   cex.main=2,\n",
    "   number.digits = 2,\n",
    "   number.cex = 0.60,\n",
    "   tl.cex = 0.70,\n",
    "   cl.cex = 1,\n",
    "   col = colorRampPalette(c(\"green4\", \"white\", \"red\"))(100)\n",
    ")"
   ]
  },
  {
   "cell_type": "markdown",
   "id": "75fe47ae-7d54-4c62-837e-fd48e4859466",
   "metadata": {},
   "source": [
    "<h3 style=\"font-family:serif; font-size:26px\"> <b r>\n",
    "    FINDINGS:</h3>\n",
    "<h4 style=\"font-family:serif; font-size:16px\"> \n",
    "<ol>\n",
    "    <li>Target variable 'cnt' looks like normal distribution.</li><br>\n",
    "    <li>Atemp is a variable denoting ambient temperature or it is the amount of temperature felt to be in the surrounding. Hence, the features temp and atemp are highly correlated, thus causing the problem of multicollinearity, as one might expect. So, removing either of them will reduce collinearity issues. We experimented with removing the temp variable, as we believed that atemp would be more relevant for an individual’s decision of renting a bike.</li><br>\n",
    "    <li>The target variable ‘cnt’ (demand count) has a strong and positive relationship with temperature and ambient temperature (atemp) which is logical. People tend to rent more bikes when temperature is higher.</li><br>\n",
    "    <li>The target variable ‘cnt’ (demand count) has a negative relationship with hum(humidity) and windspeed. People tend to rent bike more when there is less humidity and wind speed.</li><br>\n",
    "    <li>Also, the relationship between ‘hum’, ’windspeed’ and ‘cnt’ is very weak. This indicates that these are not very strong predictors.</li>\n",
    "</ol>\n",
    "</h4>"
   ]
  },
  {
   "cell_type": "code",
   "execution_count": 22,
   "id": "9ebfed21-93a9-4fed-9740-27243ba4d5d4",
   "metadata": {},
   "outputs": [
    {
     "name": "stderr",
     "output_type": "stream",
     "text": [
      "Warning message in geom_histogram(aes(y = after_stat(density), binwidth = 0.5, colour = \"black\")):\n",
      "\"\u001b[1m\u001b[22mIgnoring unknown aesthetics: \u001b[32mbinwidth\u001b[39m\"\n",
      "\u001b[1m\u001b[22m`stat_bin()` using `bins = 30`. Pick better value with `binwidth`.\n"
     ]
    },
    {
     "data": {
      "image/png": "[encoded data removed]",
      "text/plain": [
       "plot without title"
      ]
     },
     "metadata": {
      "image/png": {
       "height": 420,
       "width": 420
      }
     },
     "output_type": "display_data"
    }
   ],
   "source": [
    "# Looking at target variable\n",
    "ggplot(data = data, aes(cnt)) +\n",
    "   geom_histogram(aes(\n",
    "      y = after_stat(density),\n",
    "      binwidth = .5,\n",
    "      colour = \"black\"\n",
    "   ))"
   ]
  },
  {
   "cell_type": "code",
   "execution_count": 23,
   "id": "bd6141ae-4560-4dd0-add3-da4b28919793",
   "metadata": {},
   "outputs": [],
   "source": [
    "## Univariate Analysis     \n",
    "# 1. Continous predictors\n",
    "univariate_continuous <- function(dataset, variable, variableName) {\n",
    "   var_name = eval(substitute(variable), eval(dataset))\n",
    "   print(summary(var_name))\n",
    "   ggplot(data = dataset, aes(var_name)) +\n",
    "      geom_histogram(aes(binwidth = .5, colour = \"black\")) +\n",
    "      labs(x = variableName) +\n",
    "      ggtitle(paste(\"count of\", variableName))\n",
    "}"
   ]
  },
  {
   "cell_type": "code",
   "execution_count": 24,
   "id": "4da80984-e103-4b06-a151-eecb95900c89",
   "metadata": {},
   "outputs": [
    {
     "name": "stdout",
     "output_type": "stream",
     "text": [
      "   Min. 1st Qu.  Median    Mean 3rd Qu.    Max. \n",
      "     22    3152    4548    4504    5956    8714 \n"
     ]
    },
    {
     "name": "stderr",
     "output_type": "stream",
     "text": [
      "Warning message in geom_histogram(aes(binwidth = 0.5, colour = \"black\")):\n",
      "\"\u001b[1m\u001b[22mIgnoring unknown aesthetics: \u001b[32mbinwidth\u001b[39m\"\n",
      "\u001b[1m\u001b[22m`stat_bin()` using `bins = 30`. Pick better value with `binwidth`.\n"
     ]
    },
    {
     "data": {
      "image/png": "[encoded data removed]",
      "text/plain": [
       "plot without title"
      ]
     },
     "metadata": {
      "image/png": {
       "height": 420,
       "width": 420
      }
     },
     "output_type": "display_data"
    }
   ],
   "source": [
    "univariate_continuous(data, cnt, \"cnt\")"
   ]
  },
  {
   "cell_type": "code",
   "execution_count": 25,
   "id": "a44ecd6a-f9eb-4cde-b740-4d67b5f3b692",
   "metadata": {},
   "outputs": [
    {
     "name": "stdout",
     "output_type": "stream",
     "text": [
      "   Min. 1st Qu.  Median    Mean 3rd Qu.    Max. \n",
      "0.05913 0.33708 0.49833 0.49538 0.65542 0.86167 \n"
     ]
    },
    {
     "name": "stderr",
     "output_type": "stream",
     "text": [
      "Warning message in geom_histogram(aes(binwidth = 0.5, colour = \"black\")):\n",
      "\"\u001b[1m\u001b[22mIgnoring unknown aesthetics: \u001b[32mbinwidth\u001b[39m\"\n",
      "\u001b[1m\u001b[22m`stat_bin()` using `bins = 30`. Pick better value with `binwidth`.\n"
     ]
    },
    {
     "data": {
      "image/png": "[encoded data removed]",
      "text/plain": [
       "plot without title"
      ]
     },
     "metadata": {
      "image/png": {
       "height": 420,
       "width": 420
      }
     },
     "output_type": "display_data"
    }
   ],
   "source": [
    "univariate_continuous(data, temp, \"temp\")"
   ]
  },
  {
   "cell_type": "code",
   "execution_count": 26,
   "id": "0ee21b96-38ea-4779-bedc-5f37de4d2b31",
   "metadata": {},
   "outputs": [
    {
     "name": "stdout",
     "output_type": "stream",
     "text": [
      "   Min. 1st Qu.  Median    Mean 3rd Qu.    Max. \n",
      "0.07907 0.33784 0.48673 0.47435 0.60860 0.84090 \n"
     ]
    },
    {
     "name": "stderr",
     "output_type": "stream",
     "text": [
      "Warning message in geom_histogram(aes(binwidth = 0.5, colour = \"black\")):\n",
      "\"\u001b[1m\u001b[22mIgnoring unknown aesthetics: \u001b[32mbinwidth\u001b[39m\"\n",
      "\u001b[1m\u001b[22m`stat_bin()` using `bins = 30`. Pick better value with `binwidth`.\n"
     ]
    },
    {
     "data": {
      "image/png": "[encoded data removed]",
      "text/plain": [
       "plot without title"
      ]
     },
     "metadata": {
      "image/png": {
       "height": 420,
       "width": 420
      }
     },
     "output_type": "display_data"
    }
   ],
   "source": [
    "univariate_continuous(data, atemp, \"atemp\")"
   ]
  },
  {
   "cell_type": "code",
   "execution_count": 27,
   "id": "403b07f9-5aa1-499a-ba32-48e0eeba8af9",
   "metadata": {},
   "outputs": [
    {
     "name": "stdout",
     "output_type": "stream",
     "text": [
      "   Min. 1st Qu.  Median    Mean 3rd Qu.    Max. \n",
      " 0.0000  0.5200  0.6267  0.6279  0.7302  0.9725 \n"
     ]
    },
    {
     "name": "stderr",
     "output_type": "stream",
     "text": [
      "Warning message in geom_histogram(aes(binwidth = 0.5, colour = \"black\")):\n",
      "\"\u001b[1m\u001b[22mIgnoring unknown aesthetics: \u001b[32mbinwidth\u001b[39m\"\n",
      "\u001b[1m\u001b[22m`stat_bin()` using `bins = 30`. Pick better value with `binwidth`.\n"
     ]
    },
    {
     "data": {
      "image/png": "[encoded data removed]",
      "text/plain": [
       "plot without title"
      ]
     },
     "metadata": {
      "image/png": {
       "height": 420,
       "width": 420
      }
     },
     "output_type": "display_data"
    }
   ],
   "source": [
    "univariate_continuous(data, hum, \"hum\") # skwed towards left"
   ]
  },
  {
   "cell_type": "code",
   "execution_count": 28,
   "id": "4c62351c-1534-44c1-9677-5f65aff4d8f1",
   "metadata": {},
   "outputs": [
    {
     "name": "stdout",
     "output_type": "stream",
     "text": [
      "   Min. 1st Qu.  Median    Mean 3rd Qu.    Max. \n",
      "0.02239 0.13495 0.18097 0.19049 0.23321 0.50746 \n"
     ]
    },
    {
     "name": "stderr",
     "output_type": "stream",
     "text": [
      "Warning message in geom_histogram(aes(binwidth = 0.5, colour = \"black\")):\n",
      "\"\u001b[1m\u001b[22mIgnoring unknown aesthetics: \u001b[32mbinwidth\u001b[39m\"\n",
      "\u001b[1m\u001b[22m`stat_bin()` using `bins = 30`. Pick better value with `binwidth`.\n"
     ]
    },
    {
     "data": {
      "image/png": "[encoded data removed]",
      "text/plain": [
       "plot without title"
      ]
     },
     "metadata": {
      "image/png": {
       "height": 420,
       "width": 420
      }
     },
     "output_type": "display_data"
    }
   ],
   "source": [
    "univariate_continuous(data, windspeed, \"windspeed\") #skewed towards right"
   ]
  },
  {
   "cell_type": "code",
   "execution_count": 29,
   "id": "e4382c63-5b3f-4f18-942a-32b3f9a85fa0",
   "metadata": {},
   "outputs": [
    {
     "name": "stdout",
     "output_type": "stream",
     "text": [
      "   Min. 1st Qu.  Median    Mean 3rd Qu.    Max. \n",
      "    2.0   315.5   713.0   848.2  1096.0  3410.0 \n"
     ]
    },
    {
     "name": "stderr",
     "output_type": "stream",
     "text": [
      "Warning message in geom_histogram(aes(binwidth = 0.5, colour = \"black\")):\n",
      "\"\u001b[1m\u001b[22mIgnoring unknown aesthetics: \u001b[32mbinwidth\u001b[39m\"\n",
      "\u001b[1m\u001b[22m`stat_bin()` using `bins = 30`. Pick better value with `binwidth`.\n"
     ]
    },
    {
     "data": {
      "image/png": "[encoded data removed]",
      "text/plain": [
       "plot without title"
      ]
     },
     "metadata": {
      "image/png": {
       "height": 420,
       "width": 420
      }
     },
     "output_type": "display_data"
    }
   ],
   "source": [
    "univariate_continuous(data, casual, \"casual\") # skwed towards right"
   ]
  },
  {
   "cell_type": "code",
   "execution_count": 30,
   "id": "7b17f838-3727-41be-a114-72b932c44fab",
   "metadata": {},
   "outputs": [
    {
     "name": "stdout",
     "output_type": "stream",
     "text": [
      "   Min. 1st Qu.  Median    Mean 3rd Qu.    Max. \n",
      "     20    2497    3662    3656    4776    6946 \n"
     ]
    },
    {
     "name": "stderr",
     "output_type": "stream",
     "text": [
      "Warning message in geom_histogram(aes(binwidth = 0.5, colour = \"black\")):\n",
      "\"\u001b[1m\u001b[22mIgnoring unknown aesthetics: \u001b[32mbinwidth\u001b[39m\"\n",
      "\u001b[1m\u001b[22m`stat_bin()` using `bins = 30`. Pick better value with `binwidth`.\n"
     ]
    },
    {
     "data": {
      "image/png": "[encoded data removed]",
      "text/plain": [
       "plot without title"
      ]
     },
     "metadata": {
      "image/png": {
       "height": 420,
       "width": 420
      }
     },
     "output_type": "display_data"
    }
   ],
   "source": [
    "univariate_continuous(data, registered, \"registered\")"
   ]
  },
  {
   "cell_type": "code",
   "execution_count": 31,
   "id": "39cbf973-4b9a-440f-a636-eda0120e75e9",
   "metadata": {},
   "outputs": [],
   "source": [
    "# removing instant and dteday"
   ]
  },
  {
   "cell_type": "code",
   "execution_count": 32,
   "id": "9d9b7651-64a1-490c-9e3b-ce99765285a4",
   "metadata": {},
   "outputs": [],
   "source": [
    "data$instant <- NULL\n",
    "data$dteday <- NULL\n",
    "data$casual <- NULL\n",
    "data$registered <- NULL"
   ]
  },
  {
   "cell_type": "markdown",
   "id": "83f6fb04-fd3b-435d-a0de-00712f2e1d36",
   "metadata": {},
   "source": [
    "<h3 style=\"font-family:serif\"> <b r>\n",
    "    Feature scaling or Normalization                             "
   ]
  },
  {
   "cell_type": "code",
   "execution_count": 33,
   "id": "e18cbd95-b5ea-42a4-ba29-227c3899c660",
   "metadata": {},
   "outputs": [],
   "source": [
    "scaledData <- normalizeFeatures(data,'cnt')"
   ]
  },
  {
   "cell_type": "code",
   "execution_count": 34,
   "id": "ff82a9dd-229f-43cc-8de2-91dc43746fb7",
   "metadata": {},
   "outputs": [],
   "source": [
    "# Function for calculating Mean Absolute Error\n",
    "MAE <- function(actual,predicted){\n",
    "   error = actual - predicted\n",
    "   mean(abs(error))\n",
    "}"
   ]
  },
  {
   "cell_type": "markdown",
   "id": "7e5b55f5-53be-4d71-b160-b8699943fa60",
   "metadata": {},
   "source": [
    "<h3 style= \"font-family:serif; font-size:26px\"><b r>\n",
    "Regression Modelling </h3>\n",
    "<h4 style= \"font-family:serif; font-size:16px\"><br>\n",
    "<ol>\n",
    "    In bike renting case study, the target variable 'cnt' is continuous in nature. Our task is predicting the bike demand on a single day. This makes it a regression problem. Two machine learning algorithms were used for learning. <br><br>\n",
    "<li>Multivariate linear regression </li><br>\n",
    "<li>Random forest regressor – an ensemble tree based regression that combines a large number of decision-tree models, each individually built on bootstrapped samples of the data. This process of bootstrapping the data and combining the individual decision-trees will reduce the variance of the predictions without increasing the bias. The final predictions will be based on the mean of the individual decision-tree predictions.</li>\n"
   ]
  },
  {
   "cell_type": "markdown",
   "id": "c3a616d2-6206-492f-bbe0-eee2a4e17e8d",
   "metadata": {},
   "source": [
    "<h3 style=\"font-family:serif\"> <b r>\n",
    "    Model 1: Linear Regression "
   ]
  },
  {
   "cell_type": "code",
   "execution_count": 35,
   "id": "691dad8b-1111-4f51-b4cc-768ef20cfb89",
   "metadata": {},
   "outputs": [],
   "source": [
    "set.seed(654)\n",
    "split <- sample.split(data$cnt, SplitRatio = 0.70)\n",
    "training_set <- subset(data, split == TRUE)\n",
    "test_set <- subset(data, split == FALSE)"
   ]
  },
  {
   "cell_type": "code",
   "execution_count": 36,
   "id": "c2b4c481-9f4b-4ea9-b6de-c20ec092badd",
   "metadata": {},
   "outputs": [],
   "source": [
    "model1 <- lm(cnt ~ ., data = training_set)"
   ]
  },
  {
   "cell_type": "code",
   "execution_count": 37,
   "id": "d24ac0b5-95b4-4292-acb2-2c994efee79c",
   "metadata": {},
   "outputs": [
    {
     "data": {
      "text/plain": [
       "\n",
       "Call:\n",
       "lm(formula = cnt ~ ., data = training_set)\n",
       "\n",
       "Residuals:\n",
       "    Min      1Q  Median      3Q     Max \n",
       "-3518.4  -351.7    63.2   426.9  2439.2 \n",
       "\n",
       "Coefficients: (1 not defined because of singularities)\n",
       "                 Estimate Std. Error t value Pr(>|t|)    \n",
       "(Intercept)       1465.98     296.99   4.936 1.10e-06 ***\n",
       "seasonsummer      1052.92     199.53   5.277 1.99e-07 ***\n",
       "seasonfall        1090.08     243.02   4.486 9.10e-06 ***\n",
       "seasonwinter      1739.77     209.32   8.312 9.69e-16 ***\n",
       "yr2012            2056.81      68.91  29.846  < 2e-16 ***\n",
       "mnth2              207.30     170.46   1.216 0.224539    \n",
       "mnth3              505.95     195.71   2.585 0.010026 *  \n",
       "mnth4              468.06     284.54   1.645 0.100636    \n",
       "mnth5              914.46     310.98   2.941 0.003433 ** \n",
       "mnth6              695.86     331.01   2.102 0.036053 *  \n",
       "mnth7               74.15     371.79   0.199 0.842003    \n",
       "mnth8              537.96     360.50   1.492 0.136280    \n",
       "mnth9              954.10     310.59   3.072 0.002247 ** \n",
       "mnth10             611.19     285.71   2.139 0.032920 *  \n",
       "mnth11             -77.42     268.33  -0.289 0.773079    \n",
       "mnth12            -149.70     210.42  -0.711 0.477154    \n",
       "holiday1          -477.98     226.35  -2.112 0.035225 *  \n",
       "weekday1            84.20     132.11   0.637 0.524209    \n",
       "weekday2           216.58     127.58   1.698 0.090235 .  \n",
       "weekday3           349.06     126.07   2.769 0.005844 ** \n",
       "weekday4           304.14     125.41   2.425 0.015670 *  \n",
       "weekday5           374.08     125.54   2.980 0.003030 ** \n",
       "weekday6           342.14     124.81   2.741 0.006346 ** \n",
       "workingday1            NA         NA      NA       NA    \n",
       "weathersitCloudy  -409.63      94.17  -4.350 1.66e-05 ***\n",
       "weathersitBad    -2041.38     235.09  -8.684  < 2e-16 ***\n",
       "temp              2548.79    1484.30   1.717 0.086591 .  \n",
       "atemp             1571.57    1525.89   1.030 0.303554    \n",
       "hum              -1423.48     367.58  -3.873 0.000123 ***\n",
       "windspeed        -2611.79     496.43  -5.261 2.16e-07 ***\n",
       "---\n",
       "Signif. codes:  0 '***' 0.001 '**' 0.01 '*' 0.05 '.' 0.1 ' ' 1\n",
       "\n",
       "Residual standard error: 754.9 on 482 degrees of freedom\n",
       "Multiple R-squared:  0.8561,\tAdjusted R-squared:  0.8477 \n",
       "F-statistic: 102.4 on 28 and 482 DF,  p-value: < 2.2e-16\n"
      ]
     },
     "metadata": {},
     "output_type": "display_data"
    }
   ],
   "source": [
    "summary(model1)"
   ]
  },
  {
   "cell_type": "code",
   "execution_count": 38,
   "id": "9b704b10-3bb8-468d-8da3-d110a56a5949",
   "metadata": {},
   "outputs": [
    {
     "name": "stdout",
     "output_type": "stream",
     "text": [
      "Start:  AIC=6800.56\n",
      "cnt ~ season + yr + mnth + holiday + weekday + workingday + weathersit + \n",
      "    temp + atemp + hum + windspeed\n",
      "\n",
      "\n",
      "Step:  AIC=6800.56\n",
      "cnt ~ season + yr + mnth + holiday + weekday + weathersit + temp + \n",
      "    atemp + hum + windspeed\n",
      "\n",
      "             Df Sum of Sq       RSS    AIC\n",
      "- atemp       1    604568 275309771 6799.7\n",
      "<none>                    274705203 6800.6\n",
      "- temp        1   1680528 276385731 6801.7\n",
      "- holiday     1   2541499 277246702 6803.3\n",
      "- weekday     6   8931824 283637028 6804.9\n",
      "- hum         1   8547280 283252484 6814.2\n",
      "- windspeed   1  15775500 290480703 6827.1\n",
      "- mnth       11  38792108 313497311 6846.1\n",
      "- weathersit  2  43451067 318156270 6871.6\n",
      "- season      3  45689214 320394417 6873.2\n",
      "- yr          1 507678731 782383934 7333.4\n",
      "\n",
      "Step:  AIC=6799.69\n",
      "cnt ~ season + yr + mnth + holiday + weekday + weathersit + temp + \n",
      "    hum + windspeed\n",
      "\n",
      "             Df Sum of Sq       RSS    AIC\n",
      "<none>                    275309771 6799.7\n",
      "+ atemp       1    604568 274705203 6800.6\n",
      "- holiday     1   2726121 278035892 6802.7\n",
      "- weekday     6   8679904 283989675 6803.5\n",
      "- hum         1   8284810 283594581 6812.8\n",
      "- windspeed   1  17582336 292892107 6829.3\n",
      "- mnth       11  38214582 313524353 6844.1\n",
      "- temp        1  35748724 311058495 6860.1\n",
      "- weathersit  2  44428926 319738697 6872.1\n",
      "- season      3  45830789 321140560 6872.4\n",
      "- yr          1 507074640 782384411 7331.4\n"
     ]
    },
    {
     "data": {
      "text/plain": [
       "\n",
       "Call:\n",
       "lm(formula = cnt ~ season + yr + mnth + holiday + weekday + weathersit + \n",
       "    temp + hum + windspeed, data = training_set)\n",
       "\n",
       "Residuals:\n",
       "    Min      1Q  Median      3Q     Max \n",
       "-3479.9  -351.7    71.3   425.4  2418.5 \n",
       "\n",
       "Coefficients:\n",
       "                 Estimate Std. Error t value Pr(>|t|)    \n",
       "(Intercept)       1514.61     293.24   5.165 3.52e-07 ***\n",
       "seasonsummer      1058.45     199.47   5.306 1.71e-07 ***\n",
       "seasonfall        1092.89     243.02   4.497 8.63e-06 ***\n",
       "seasonwinter      1740.57     209.33   8.315 9.41e-16 ***\n",
       "yr2012            2054.43      68.88  29.826  < 2e-16 ***\n",
       "mnth2              211.07     170.44   1.238 0.216161    \n",
       "mnth3              505.08     195.72   2.581 0.010158 *  \n",
       "mnth4              471.39     284.54   1.657 0.098240 .  \n",
       "mnth5              897.34     310.55   2.889 0.004032 ** \n",
       "mnth6              667.54     329.89   2.024 0.043568 *  \n",
       "mnth7               53.63     371.28   0.144 0.885217    \n",
       "mnth8              488.20     357.27   1.366 0.172427    \n",
       "mnth9              928.93     309.64   3.000 0.002839 ** \n",
       "mnth10             612.68     285.72   2.144 0.032506 *  \n",
       "mnth11             -71.15     268.27  -0.265 0.790960    \n",
       "mnth12            -144.34     210.37  -0.686 0.492969    \n",
       "holiday1          -493.88     225.83  -2.187 0.029226 *  \n",
       "weekday1            84.97     132.12   0.643 0.520427    \n",
       "weekday2           212.54     127.53   1.667 0.096254 .  \n",
       "weekday3           344.98     126.02   2.738 0.006417 ** \n",
       "weekday4           302.66     125.41   2.413 0.016180 *  \n",
       "weekday5           365.09     125.24   2.915 0.003721 ** \n",
       "weekday6           339.40     124.79   2.720 0.006767 ** \n",
       "weathersitCloudy  -412.23      94.14  -4.379 1.46e-05 ***\n",
       "weathersitBad    -2059.08     234.47  -8.782  < 2e-16 ***\n",
       "temp              3986.92     503.44   7.919 1.65e-14 ***\n",
       "hum              -1398.37     366.79  -3.812 0.000155 ***\n",
       "windspeed        -2708.02     487.59  -5.554 4.62e-08 ***\n",
       "---\n",
       "Signif. codes:  0 '***' 0.001 '**' 0.01 '*' 0.05 '.' 0.1 ' ' 1\n",
       "\n",
       "Residual standard error: 755 on 483 degrees of freedom\n",
       "Multiple R-squared:  0.8558,\tAdjusted R-squared:  0.8477 \n",
       "F-statistic: 106.1 on 27 and 483 DF,  p-value: < 2.2e-16\n"
      ]
     },
     "metadata": {},
     "output_type": "display_data"
    }
   ],
   "source": [
    "# step wise model selection\n",
    "modelAIC <- stepAIC(model1, direction = \"both\")\n",
    "summary(modelAIC)"
   ]
  },
  {
   "cell_type": "markdown",
   "id": "4107eac9-e07f-44d2-b582-b385520867f3",
   "metadata": {},
   "source": [
    "<h3 style=\"font-family:serif\"> <b r>\n",
    "    Apply prediction on test set"
   ]
  },
  {
   "cell_type": "code",
   "execution_count": 39,
   "id": "59492045-7e15-4a0a-bf19-ea4d1cc34c1e",
   "metadata": {},
   "outputs": [
    {
     "name": "stdout",
     "output_type": "stream",
     "text": [
      "[1] \"root-mean-square error for linear regression model is  821.372628075881\"\n",
      "[1] \"Mean Absolute Error for linear regression model is  575.459501759831\"\n"
     ]
    }
   ],
   "source": [
    "test_prediction <- predict(modelAIC, newdata = test_set)\n",
    "test_rmse <- rmse(test_set$cnt, test_prediction)\n",
    "print(paste(\"root-mean-square error for linear regression model is \", test_rmse))\n",
    "print(paste(\"Mean Absolute Error for linear regression model is \",MAE(test_set$cnt,test_prediction)))"
   ]
  },
  {
   "cell_type": "code",
   "execution_count": 40,
   "id": "25f2349e-1e54-4572-8977-97f51c308606",
   "metadata": {},
   "outputs": [
    {
     "name": "stdout",
     "output_type": "stream",
     "text": [
      "[1] \"summary of predicted count values\"\n"
     ]
    },
    {
     "data": {
      "text/plain": [
       "   Min. 1st Qu.  Median    Mean 3rd Qu.    Max. \n",
       "  -1334    3543    4716    4547    5903    7889 "
      ]
     },
     "metadata": {},
     "output_type": "display_data"
    },
    {
     "name": "stdout",
     "output_type": "stream",
     "text": [
      "[1] \"summary of actual count values\"\n"
     ]
    },
    {
     "data": {
      "text/plain": [
       "   Min. 1st Qu.  Median    Mean 3rd Qu.    Max. \n",
       "    506    3112    4650    4550    5949    8395 "
      ]
     },
     "metadata": {},
     "output_type": "display_data"
    }
   ],
   "source": [
    "print(\"summary of predicted count values\")\n",
    "summary(test_prediction)\n",
    "print(\"summary of actual count values\")\n",
    "summary(test_set$cnt)"
   ]
  },
  {
   "cell_type": "markdown",
   "id": "e3212578-0e32-4ffa-8851-ec2e7f29cb76",
   "metadata": {},
   "source": [
    "<h3 style=\"font-family:serif\"> <b r>\n",
    "    Model 2: stepAIC Model </h3>"
   ]
  },
  {
   "cell_type": "code",
   "execution_count": 41,
   "id": "e4e310cb-d0f7-4a87-8313-7cd4e35bece5",
   "metadata": {},
   "outputs": [],
   "source": [
    "# From the summary we can observe negative prediction values\n",
    "#We will perform log transformation of trarget variable\n",
    "model2 <- lm(log(cnt)~., data = training_set)"
   ]
  },
  {
   "cell_type": "code",
   "execution_count": 42,
   "id": "b736c813-2804-4202-a8a7-bb9c76291f6b",
   "metadata": {},
   "outputs": [
    {
     "name": "stdout",
     "output_type": "stream",
     "text": [
      "Start:  AIC=-1172.01\n",
      "log(cnt) ~ season + yr + mnth + holiday + weekday + workingday + \n",
      "    weathersit + temp + atemp + hum + windspeed\n",
      "\n",
      "\n",
      "Step:  AIC=-1172.01\n",
      "log(cnt) ~ season + yr + mnth + holiday + weekday + weathersit + \n",
      "    temp + atemp + hum + windspeed\n",
      "\n",
      "             Df Sum of Sq    RSS      AIC\n",
      "- weekday     6    0.6975 46.728 -1176.32\n",
      "- atemp       1    0.0220 46.053 -1173.77\n",
      "<none>                    46.031 -1172.01\n",
      "- holiday     1    0.3205 46.351 -1170.46\n",
      "- temp        1    0.4928 46.523 -1168.57\n",
      "- mnth       11    2.8682 48.899 -1163.12\n",
      "- hum         1    1.3827 47.413 -1158.89\n",
      "- windspeed   1    2.0611 48.092 -1151.63\n",
      "- season      3    5.9065 51.937 -1116.32\n",
      "- weathersit  2    9.1973 55.228 -1082.92\n",
      "- yr          1   24.7937 70.824  -953.82\n",
      "\n",
      "Step:  AIC=-1176.32\n",
      "log(cnt) ~ season + yr + mnth + holiday + weathersit + temp + \n",
      "    atemp + hum + windspeed\n",
      "\n",
      "             Df Sum of Sq    RSS      AIC\n",
      "- atemp       1    0.0075 46.736 -1178.24\n",
      "<none>                    46.728 -1176.32\n",
      "+ workingday  1    0.1100 46.618 -1175.53\n",
      "- holiday     1    0.5013 47.229 -1172.87\n",
      "+ weekday     6    0.6975 46.031 -1172.01\n",
      "- temp        1    0.6271 47.355 -1171.51\n",
      "- mnth       11    2.8524 49.581 -1168.05\n",
      "- hum         1    1.5565 48.285 -1161.58\n",
      "- windspeed   1    2.1192 48.847 -1155.66\n",
      "- season      3    5.9384 52.667 -1121.19\n",
      "- weathersit  2    9.1419 55.870 -1089.02\n",
      "- yr          1   24.9092 71.637  -959.99\n",
      "\n",
      "Step:  AIC=-1178.24\n",
      "log(cnt) ~ season + yr + mnth + holiday + weathersit + temp + \n",
      "    hum + windspeed\n",
      "\n",
      "             Df Sum of Sq    RSS      AIC\n",
      "<none>                    46.736 -1178.24\n",
      "+ workingday  1    0.1082 46.627 -1177.43\n",
      "+ atemp       1    0.0075 46.728 -1176.32\n",
      "- holiday     1    0.5106 47.246 -1174.69\n",
      "+ weekday     6    0.6830 46.053 -1173.77\n",
      "- mnth       11    2.8514 49.587 -1169.98\n",
      "- hum         1    1.5490 48.285 -1163.58\n",
      "- windspeed   1    2.2438 48.979 -1156.28\n",
      "- season      3    5.9438 52.679 -1123.07\n",
      "- temp        1    6.7043 53.440 -1111.74\n",
      "- weathersit  2    9.2252 55.961 -1090.19\n",
      "- yr          1   24.9068 71.642  -961.95\n"
     ]
    }
   ],
   "source": [
    "stepwiseLogAICModel <- stepAIC(model2,direction = \"both\")\n",
    "test_prediction_log<- predict(stepwiseLogAICModel, newdata = test_set)\n",
    "predict_test_nonlog <- exp(test_prediction_log)"
   ]
  },
  {
   "cell_type": "code",
   "execution_count": 43,
   "id": "c9f40c44-3113-447f-99af-15fd7d7cd872",
   "metadata": {},
   "outputs": [
    {
     "name": "stdout",
     "output_type": "stream",
     "text": [
      "[1] \"root-mean-square error between actual and predicted 821.372628075881\"\n",
      "[1] \"Mean Absolute Error for linear regression model is  696.180959982147\"\n"
     ]
    }
   ],
   "source": [
    "test_rmse2 <- rmse(test_set$cnt, predict_test_nonlog)\n",
    "print(paste(\"root-mean-square error between actual and predicted\", test_rmse))\n",
    "print(paste(\"Mean Absolute Error for linear regression model is \",\n",
    "            MAE(test_set$cnt,predict_test_nonlog)))"
   ]
  },
  {
   "cell_type": "code",
   "execution_count": 44,
   "id": "f653a8ec-a92f-4656-a1e0-ac95749b45a5",
   "metadata": {},
   "outputs": [
    {
     "data": {
      "text/plain": [
       "   Min. 1st Qu.  Median    Mean 3rd Qu.    Max. \n",
       "    486    3063    4381    4484    5822   10614 "
      ]
     },
     "metadata": {},
     "output_type": "display_data"
    }
   ],
   "source": [
    "summary(predict_test_nonlog)"
   ]
  },
  {
   "cell_type": "code",
   "execution_count": 45,
   "id": "0622defa-5b30-40b9-ba2e-4002b85c997e",
   "metadata": {},
   "outputs": [
    {
     "data": {
      "text/plain": [
       "   Min. 1st Qu.  Median    Mean 3rd Qu.    Max. \n",
       "    506    3112    4650    4550    5949    8395 "
      ]
     },
     "metadata": {},
     "output_type": "display_data"
    }
   ],
   "source": [
    "summary(test_set$cnt)"
   ]
  },
  {
   "cell_type": "code",
   "execution_count": 46,
   "id": "d96a7c9e-0859-4cc4-b8f5-22eef7a345d7",
   "metadata": {},
   "outputs": [
    {
     "data": {
      "image/png": "[encoded data removed]",
      "text/plain": [
       "Plot with title \"\""
      ]
     },
     "metadata": {
      "image/png": {
       "height": 420,
       "width": 420
      }
     },
     "output_type": "display_data"
    }
   ],
   "source": [
    "par(mfrow = c(2, 2))\n",
    "plot(stepwiseLogAICModel)"
   ]
  },
  {
   "cell_type": "markdown",
   "id": "ddd51e63-986b-4465-9b8f-9fd29ce42dea",
   "metadata": {},
   "source": [
    "<h3 style=\"font-family:serif; font-size:26px\"> <b r><br>\n",
    "    Model 3: Random forest \n",
    "<h4 style=\"font-family:serif; font-size:16px\">\n",
    "    After linear regression, random forest was trained. After training with default setting, hyperparameter tuning was used for increase performance.<br><br>\n",
    "    First random forest model was trained ‘rf_model_1’ with default setting. \n",
    "</h4>"
   ]
  },
  {
   "cell_type": "code",
   "execution_count": 47,
   "id": "d32d2e81-6433-4855-be98-4482f3a0e502",
   "metadata": {},
   "outputs": [],
   "source": [
    "rf_model_1 <- randomForest(cnt ~., data = training_set,ntree = 500, mtry = 8, importance = TRUE)"
   ]
  },
  {
   "cell_type": "code",
   "execution_count": 48,
   "id": "c6eb3e55-4e58-476f-9eb1-8e8235cb288c",
   "metadata": {},
   "outputs": [
    {
     "name": "stdout",
     "output_type": "stream",
     "text": [
      "\n",
      "Call:\n",
      " randomForest(formula = cnt ~ ., data = training_set, ntree = 500,      mtry = 8, importance = TRUE) \n",
      "               Type of random forest: regression\n",
      "                     Number of trees: 500\n",
      "No. of variables tried at each split: 8\n",
      "\n",
      "          Mean of squared residuals: 451064\n",
      "                    % Var explained: 87.92\n"
     ]
    }
   ],
   "source": [
    "print(rf_model_1)"
   ]
  },
  {
   "cell_type": "code",
   "execution_count": 49,
   "id": "bdf0727c-a154-4650-9bcd-3e22689d71bc",
   "metadata": {},
   "outputs": [
    {
     "data": {
      "image/png": "[encoded data removed]",
      "text/plain": [
       "Plot with title \"rf_model_1\""
      ]
     },
     "metadata": {
      "image/png": {
       "height": 420,
       "width": 420
      }
     },
     "output_type": "display_data"
    }
   ],
   "source": [
    "par(mfrow = c(1,1))\n",
    "plot(rf_model_1)"
   ]
  },
  {
   "cell_type": "code",
   "execution_count": 51,
   "id": "b8cc5bf7-9c0b-471a-9a0f-0ff1cdcb8011",
   "metadata": {},
   "outputs": [
    {
     "name": "stdout",
     "output_type": "stream",
     "text": [
      "mtry = 3  OOB error = 473628.2 \n",
      "Searching left ...\n",
      "mtry = 6 \tOOB error = 460684.7 \n",
      "0.02732842 0.05 \n",
      "Searching right ...\n",
      "mtry = 1 \tOOB error = 988371.6 \n",
      "-1.086809 0.05 \n"
     ]
    },
    {
     "data": {
      "image/png": "[encoded data removed]",
      "text/plain": [
       "plot without title"
      ]
     },
     "metadata": {
      "image/png": {
       "height": 420,
       "width": 420
      }
     },
     "output_type": "display_data"
    }
   ],
   "source": [
    "# 300 trees selected from the plot\n",
    "tumedmodel <- tuneRF(training_set[,1:11], training_set[,12], stepFactor = 0.5, plot = TRUE, \n",
    "                     ntreeTry = 250, trace = TRUE, improve = 0.05)"
   ]
  },
  {
   "cell_type": "code",
   "execution_count": 52,
   "id": "32a59944-ef2d-4d0b-8ab5-1f6df45e3414",
   "metadata": {},
   "outputs": [
    {
     "data": {
      "text/plain": [
       "\n",
       "Call:\n",
       " randomForest(formula = cnt ~ . - atemp, data = training_set,      ntree = 250, mtry = 6, importance = TRUE) \n",
       "               Type of random forest: regression\n",
       "                     Number of trees: 250\n",
       "No. of variables tried at each split: 6\n",
       "\n",
       "          Mean of squared residuals: 457193.6\n",
       "                    % Var explained: 87.76"
      ]
     },
     "metadata": {},
     "output_type": "display_data"
    }
   ],
   "source": [
    "# selected mtry = 6 from the plot\n",
    "tuned_randomForest <-  randomForest(cnt ~. - atemp, data = training_set,ntree = 250, mtry = 6, importance = TRUE)\n",
    "tuned_randomForest"
   ]
  },
  {
   "cell_type": "code",
   "execution_count": 53,
   "id": "710837f2-7783-4ebb-8bf1-19a7ea0ffb45",
   "metadata": {},
   "outputs": [
    {
     "data": {
      "text/html": [
       "752.177116121912"
      ],
      "text/latex": [
       "752.177116121912"
      ],
      "text/markdown": [
       "752.177116121912"
      ],
      "text/plain": [
       "[1] 752.1771"
      ]
     },
     "metadata": {},
     "output_type": "display_data"
    },
    {
     "name": "stdout",
     "output_type": "stream",
     "text": [
      "[1] \"Mean Absolute Error for Random forest regressor  is  502.034311212121\"\n"
     ]
    }
   ],
   "source": [
    "# predicting using random forest model 1\n",
    "rf1_prediction <- predict(tuned_randomForest,test_set[,-12])\n",
    "rmse(rf1_prediction,test_set$cnt)\n",
    "print(paste(\"Mean Absolute Error for Random forest regressor  is \", MAE(test_set$cnt,rf1_prediction)))"
   ]
  },
  {
   "cell_type": "code",
   "execution_count": 54,
   "id": "2c7808ae-5a87-4012-b990-3ff828048830",
   "metadata": {},
   "outputs": [
    {
     "data": {
      "image/png": "[encoded data removed]",
      "text/plain": [
       "plot without title"
      ]
     },
     "metadata": {
      "image/png": {
       "height": 420,
       "width": 420
      }
     },
     "output_type": "display_data"
    }
   ],
   "source": [
    "#745\n",
    "varImpPlot(tuned_randomForest)"
   ]
  },
  {
   "cell_type": "markdown",
   "id": "a05c3c40-1afe-4bff-925b-33b140d7698e",
   "metadata": {},
   "source": [
    "<h3 style=\"font-family:serif; font-size:26px\"> <b r>\n",
    "Conclusion</h3>\n",
    "<h4 style=\"font-family:serif; font-size:16px\">\n",
    "<ol>\n",
    "    <li>Using different combinations of models and featurizations, we found that hour is by far the most predictive feature for our problem, whereas weather variables play a much smaller, but still noticeable effect in contributing to accurate predictions.</li><br><br>\n",
    "    <li>We found that hour was by far the most important variable in our data, and contributed to the predictions significantly – this is quite reasonable as certain hours (peak hours) will clearly have significantly more bike rentals than other hours. </li><br><br>\n",
    "    <li>In addition, the weather variables also had a small, but still positive, effect on our predictions. This indicates that weather can indeed help predict demand for bikes.</li><br><br>\n",
    "    <li>Random forest performed better than linear regression. After hypertuning the parameters, slight improvement was recorded on variance explained. </li><br><br>\n"
   ]
  },
  {
   "cell_type": "code",
   "execution_count": null,
   "id": "01a65326-40e1-4031-a460-0c075695d7a7",
   "metadata": {},
   "outputs": [],
   "source": []
  }
 ],
 "metadata": {
  "kernelspec": {
   "display_name": "R",
   "language": "R",
   "name": "ir"
  },
  "language_info": {
   "codemirror_mode": "r",
   "file_extension": ".r",
   "mimetype": "text/x-r-source",
   "name": "R",
   "pygments_lexer": "r",
   "version": "4.3.2"
  },
  "widgets": {
   "application/vnd.jupyter.widget-state+json": {
    "state": {},
    "version_major": 2,
    "version_minor": 0
   }
  }
 },
 "nbformat": 4,
 "nbformat_minor": 5
}
